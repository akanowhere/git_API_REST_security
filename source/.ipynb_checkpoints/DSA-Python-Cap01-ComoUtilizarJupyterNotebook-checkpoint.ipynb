{
 "cells": [
  {
   "cell_type": "markdown",
   "metadata": {},
   "source": [
    "# <font color='blue'>Data Science Academy - Python Fundamentos</font>\n",
    "# <font color='blue'>Capítulo 1</font>\n"
   ]
  },
  {
   "cell_type": "code",
   "execution_count": 4,
   "metadata": {},
   "outputs": [],
   "source": [
    "\n",
    "import pandas as pd"
   ]
  },
  {
   "cell_type": "code",
   "execution_count": 5,
   "metadata": {},
   "outputs": [],
   "source": [
    "df1 = pd.read_csv('D:/pythonDSA/Security/python/source/log/id_users.csv',sep=';')"
   ]
  },
  {
   "cell_type": "code",
   "execution_count": 6,
   "metadata": {},
   "outputs": [
    {
     "name": "stdout",
     "output_type": "stream",
     "text": [
      "                                      email  idCompanyUser  \\\n",
      "0        jonathan.torres@sousecurity.com.br          39972   \n",
      "1         alberto.vieira@sousecurity.com.br          38785   \n",
      "2         aldemiro.matos@sousecurity.com.br          29631   \n",
      "3    alessandro.nogueira@sousecurity.com.br          46888   \n",
      "4            almir.silva@sousecurity.com.br          32168   \n",
      "..                                      ...            ...   \n",
      "127     vanderlei.pivoto@sousecurity.com.br          29698   \n",
      "128         vitor.correa@sousecurity.com.br          30918   \n",
      "129     wanderson.santos@sousecurity.com.br          45769   \n",
      "130   washington.santana@sousecurity.com.br          45464   \n",
      "131   wellington.fonseca@sousecurity.com.br          29137   \n",
      "\n",
      "                   lastLoginDate         name  role                   surname  \\\n",
      "0    2023-08-18T10:32:27.1827479    Jonathan      2             Soares Torres   \n",
      "1    2023-08-16T11:50:52.6540437      Alberto     5  Elifas Bernardino Vieira   \n",
      "2    2023-02-28T17:10:01.8869349     Aldemiro     5                     Matos   \n",
      "3    2023-08-18T13:56:52.2436321   Alessandro     5         Da Silva Nogueira   \n",
      "4    2023-01-25T16:49:43.3528183        Almir     5                     Silva   \n",
      "..                           ...          ...   ...                       ...   \n",
      "127  2022-11-29T07:50:49.2960524    Vanderlei     3                    Pivoto   \n",
      "128  2023-08-18T18:00:22.2429414        Vitor     5                    Correa   \n",
      "129  2023-08-08T12:20:28.0044864   Wanderson      5      Rodrigues Dos Santos   \n",
      "130   2023-05-26T09:42:49.784434  Washington      5              Luiz Santana   \n",
      "131  2023-08-18T17:57:05.6195097   Wellington     2           De Lima Fonseca   \n",
      "\n",
      "     userAD  \n",
      "0       NaN  \n",
      "1       NaN  \n",
      "2       NaN  \n",
      "3       NaN  \n",
      "4       NaN  \n",
      "..      ...  \n",
      "127     NaN  \n",
      "128     NaN  \n",
      "129     NaN  \n",
      "130     NaN  \n",
      "131     NaN  \n",
      "\n",
      "[132 rows x 7 columns]\n"
     ]
    }
   ],
   "source": [
    "print(df1)"
   ]
  },
  {
   "cell_type": "markdown",
   "metadata": {},
   "source": [
    "## Como Utilizar o Jupyter Notebook"
   ]
  },
  {
   "cell_type": "markdown",
   "metadata": {},
   "source": [
    "# Fim"
   ]
  },
  {
   "cell_type": "markdown",
   "metadata": {},
   "source": [
    "### Obrigado - Data Science Academy - <a href=\"http://facebook.com/dsacademybr\">facebook.com/dsacademybr</a>"
   ]
  }
 ],
 "metadata": {
  "anaconda-cloud": {},
  "kernelspec": {
   "display_name": "Python 3 (ipykernel)",
   "language": "python",
   "name": "python3"
  },
  "language_info": {
   "codemirror_mode": {
    "name": "ipython",
    "version": 3
   },
   "file_extension": ".py",
   "mimetype": "text/x-python",
   "name": "python",
   "nbconvert_exporter": "python",
   "pygments_lexer": "ipython3",
   "version": "3.7.13"
  }
 },
 "nbformat": 4,
 "nbformat_minor": 1
}
